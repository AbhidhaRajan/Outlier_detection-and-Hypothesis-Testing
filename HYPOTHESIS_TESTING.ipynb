{
 "cells": [
  {
   "cell_type": "markdown",
   "id": "d5524ab3-c8d6-4393-b7c2-e86ab5918fc2",
   "metadata": {},
   "source": [
    "## HYPOTHESIS TESTING"
   ]
  },
  {
   "cell_type": "code",
   "execution_count": null,
   "id": "1115cca1-6fc4-475d-8832-9a642704ab7b",
   "metadata": {},
   "outputs": [],
   "source": [
    "Hypothesis testing is a fundamental statistical method used to make inferences about populations based on sample data. \n",
    "It involves testing a hypothesis about a population parameter, such as a mean or proportion, using sample data."
   ]
  },
  {
   "cell_type": "markdown",
   "id": "03650fa9-47c8-49da-825d-392b5d901933",
   "metadata": {},
   "source": [
    "## TASK 2\n"
   ]
  },
  {
   "cell_type": "markdown",
   "id": "e54bb4ad-8e4a-43ee-ac7a-6445a53f8a79",
   "metadata": {},
   "source": [
    "#####  Q1.Suppose a child psychologist claims that the average time working mothers spend talking to their children is at least 11 minutes per day. You conduct a random sample of 1000 working mothers and find they spend an average of 11.5 minutes per day talking with their children. Assume prior research suggests the population standard deviation is 2.3 minutes.Conduct a test with a level of significance of alpha = 0.05."
   ]
  },
  {
   "cell_type": "markdown",
   "id": "4d70826a-5f74-460f-85f7-148b0731b877",
   "metadata": {},
   "source": [
    "##### 1.Formulate Hypotheses:\n",
    "Null Hypothesis (H0): The average time working mothers spend talking to their children is 11 minutes or less per day. μ ≤ 11\n",
    "Alternative Hypothesis (Ha): The average time working mothers spend talking to their children is more than 11 minutes per day. μ > 11\n",
    "#### 2.Select Significance Level: α = 0.05\n",
    "###### 3.Collect Data: Sample size (n) = 1000, Sample mean (x̄) = 11.5 minutes, Population standard deviation (σ) = 2.3 minutes\n",
    "###### 4. Compute Test Statistic:\r\n",
    "We'll use the z-test because we have the population standard deviation.\r\n",
    "The test statistic for a z-test is calculated a z=(x̄-μ)/(σ/√n)\n",
    "\n",
    "#### 5.Determine Critical Value or P-value:\r\n",
    "For a one-tailed test with α = 0.05, the critical value can be found using a standard normal distribution table. Since it's a right-tailed test, we're interested in the upper tail of the distribution.\r\n",
    "The critical value for α = 0.05 is approximately 1.64\n",
    "#### 6.Make Decision:\r",
    "\r\n",
    "If the calculated z-value is greater than 1.645, we reject the null hypothesis.\r\n",
    "If the calculated z-value is less than or equal to 1.645, we fail to reject the null hypothes\n",
    "is.5.\r\n",
    "σ\r\n",
    "​\r\n",
    " \r\n",
    "x\r\n",
    "ˉ\r\n",
    " −μ\r\n",
    "​\r\n"
   ]
  },
  {
   "cell_type": "code",
   "execution_count": 1,
   "id": "c4a5a010-3ac0-45f2-856d-04d9ad5f27c4",
   "metadata": {},
   "outputs": [],
   "source": [
    "import math"
   ]
  },
  {
   "cell_type": "code",
   "execution_count": 2,
   "id": "71214378-bf76-417a-bc07-e234a7e49951",
   "metadata": {},
   "outputs": [
    {
     "data": {
      "text/plain": [
       "6.874516652539955"
      ]
     },
     "execution_count": 2,
     "metadata": {},
     "output_type": "execute_result"
    }
   ],
   "source": [
    "## 7. Calculating z value\n",
    "Z=(11.5-11)/(2.3/math.sqrt(1000))\n",
    "Z"
   ]
  },
  {
   "cell_type": "markdown",
   "id": "eef7a93a-5793-477a-9f6a-7fc4aab45d6f",
   "metadata": {},
   "source": [
    "## make Decision:\n",
    "Since 6.85 is greater than 1.645, we reject the null hypothesis.\n",
    "## 8.Conclusion:\n",
    "We have sufficient evidence to conclude that the average time working mothers spend talking\n",
    "to their children is more than 11 minutes per day at a significance level of 0.05."
   ]
  },
  {
   "cell_type": "markdown",
   "id": "556c18c9-d601-4274-8e8f-42724fbd6096",
   "metadata": {},
   "source": [
    "######  Q2. A coffee shop claims that their average wait time for customers is less than 5 minutes. \n",
    "        To test this claim, a sample of 40 customers is taken, and their wait times are recorded. \n",
    "       The sample mean wait time is found to be 4.6 minutes with a standard deviation of 0.8 minutes. \n",
    "       Perform a hypothesis test at a significance level of 0.05 and \n",
    "       determine whether there is enough evidence to support the coffee shop's claim."
   ]
  },
  {
   "cell_type": "markdown",
   "id": "94bdf923-fdcb-45ae-9a1d-17c480f24a66",
   "metadata": {},
   "source": [
    "## 1.Formulate Hypotheses:\n",
    "Null Hypothesis (H0): The average wait time for customers is 5 minutes or more. μ ≥ 5\n",
    "Alternative Hypothesis (Ha): The average wait time for customers is less than 5 minutes. μ < 5\n",
    "## 2.Select Significance Level:\n",
    "α = 0.05\r",
    "## 3.\r\n",
    "Collect Data\n",
    " : Sample size (n) = 40, Sample mean (x̄) = 4.6 minutes, Sample standard deviation (s) = 0.8 minut\n",
    "## 4.Compute Test Statistic:\r\n",
    "Since the population standard deviation is not given, we'll use the t-test.\r\n",
    "The test statistic for a t-test is calculated a t=(x̄-μ)/(s/√n).\n",
    "## 5.Determine Critical Value or P-value:\r\n",
    "For a one-tailed test with α = 0.05 and degrees of freedom (df) = n - 1 = 39, the critical value can be found using a t-distribution table. Since it's a left-tailed test, we're interested in the lower tail of the distribution.\r\n",
    "The critical value for α = 0.05 and df = 39 is approximately -1.68\n",
    "## Make Decision:\r",
    "\r\n",
    "If the calculated t-value is less than -1.685, we reject the null hypothesis.\r\n",
    "If the calculated t-value is greater than or equal to -1.685, we fail to reject the null hypothesis.5.s:es"
   ]
  },
  {
   "cell_type": "code",
   "execution_count": 4,
   "id": "5f43970a-bebe-4655-a381-ad4b1e7e7eb7",
   "metadata": {},
   "outputs": [
    {
     "data": {
      "text/plain": [
       "-3.162277660168382"
      ]
     },
     "execution_count": 4,
     "metadata": {},
     "output_type": "execute_result"
    }
   ],
   "source": [
    "## 7. Calculating t value\n",
    "t=(4.6-5)/(0.8/math.sqrt(40))\n",
    "t"
   ]
  },
  {
   "cell_type": "markdown",
   "id": "721e258d-73c5-4c81-a179-0b2ee9022628",
   "metadata": {},
   "source": [
    "## Make Decision:\n",
    "Since -3.17 is less than -1.685, we reject the null hypothesis."
   ]
  },
  {
   "cell_type": "code",
   "execution_count": null,
   "id": "04c891b7-c5c6-40fd-87e9-0f6b5e314986",
   "metadata": {},
   "outputs": [],
   "source": [
    "## 8.Conclusion:\n",
    "We have sufficient evidence to conclude that the average wait time\n",
    "for customers is less than 5 minutes at a significance level of 0.05."
   ]
  }
 ],
 "metadata": {
  "kernelspec": {
   "display_name": "Python 3 (ipykernel)",
   "language": "python",
   "name": "python3"
  },
  "language_info": {
   "codemirror_mode": {
    "name": "ipython",
    "version": 3
   },
   "file_extension": ".py",
   "mimetype": "text/x-python",
   "name": "python",
   "nbconvert_exporter": "python",
   "pygments_lexer": "ipython3",
   "version": "3.11.4"
  }
 },
 "nbformat": 4,
 "nbformat_minor": 5
}
